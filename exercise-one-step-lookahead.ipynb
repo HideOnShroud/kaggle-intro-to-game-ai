{
 "cells": [
  {
   "cell_type": "markdown",
   "id": "e2f26905",
   "metadata": {
    "papermill": {
     "duration": 0.005077,
     "end_time": "2024-09-11T15:45:03.312906",
     "exception": false,
     "start_time": "2024-09-11T15:45:03.307829",
     "status": "completed"
    },
    "tags": []
   },
   "source": [
    "**This notebook is an exercise in the [Intro to Game AI and Reinforcement Learning](https://www.kaggle.com/learn/intro-to-game-ai-and-reinforcement-learning) course.  You can reference the tutorial at [this link](https://www.kaggle.com/alexisbcook/one-step-lookahead).**\n",
    "\n",
    "---\n"
   ]
  },
  {
   "cell_type": "markdown",
   "id": "3d70f93d",
   "metadata": {
    "papermill": {
     "duration": 0.004606,
     "end_time": "2024-09-11T15:45:03.325232",
     "exception": false,
     "start_time": "2024-09-11T15:45:03.320626",
     "status": "completed"
    },
    "tags": []
   },
   "source": [
    "# Introduction\n",
    "\n",
    "In the tutorial, you learned how to define a simple heuristic that the agent used to select moves.  In this exercise, you'll check your understanding and make the heuristic more complex.\n",
    "\n",
    "To get started, run the code cell below to set up our feedback system."
   ]
  },
  {
   "cell_type": "code",
   "execution_count": 1,
   "id": "bfeaac17",
   "metadata": {
    "execution": {
     "iopub.execute_input": "2024-09-11T15:45:03.338057Z",
     "iopub.status.busy": "2024-09-11T15:45:03.337566Z",
     "iopub.status.idle": "2024-09-11T15:45:12.163683Z",
     "shell.execute_reply": "2024-09-11T15:45:12.161885Z"
    },
    "papermill": {
     "duration": 8.836034,
     "end_time": "2024-09-11T15:45:12.166811",
     "exception": false,
     "start_time": "2024-09-11T15:45:03.330777",
     "status": "completed"
    },
    "tags": []
   },
   "outputs": [
    {
     "name": "stdout",
     "output_type": "stream",
     "text": [
      "No pygame installed, ignoring import\n"
     ]
    }
   ],
   "source": [
    "from learntools.core import binder\n",
    "binder.bind(globals())\n",
    "from learntools.game_ai.ex2 import *"
   ]
  },
  {
   "cell_type": "markdown",
   "id": "23659cbf",
   "metadata": {
    "papermill": {
     "duration": 0.004034,
     "end_time": "2024-09-11T15:45:12.175369",
     "exception": false,
     "start_time": "2024-09-11T15:45:12.171335",
     "status": "completed"
    },
    "tags": []
   },
   "source": [
    "### 1) A more complex heuristic\n",
    "\n",
    "The heuristic from the tutorial looks at all groups of four adjacent grid locations on the same row, column, or diagonal and assigns points for each occurrence of the following patterns:\n",
    "\n",
    "<center>\n",
    "<img src=\"https://storage.googleapis.com/kaggle-media/learn/images/vzQa4ML.png\" width=60%><br/>\n",
    "</center>\n",
    "\n",
    "In the image above, we assume that the agent is the red player, and the opponent plays yellow discs.\n",
    "\n",
    "For reference, here is the `get_heuristic()` function from the tutorial:\n",
    "```python\n",
    "def get_heuristic(grid, mark, config):\n",
    "    num_threes = count_windows(grid, 3, mark, config)\n",
    "    num_fours = count_windows(grid, 4, mark, config)\n",
    "    num_threes_opp = count_windows(grid, 3, mark%2+1, config)\n",
    "    score = num_threes - 1e2*num_threes_opp + 1e6*num_fours\n",
    "    return score\n",
    "```\n",
    "\n",
    "In the `get_heuristic()` function, `num_fours`, `num_threes`, and `num_threes_opp` are the number of windows in the game grid that are assigned 1000000, 1, and -100 point(s), respectively. \n",
    "    \n",
    "In this tutorial, you'll change the heuristic to the following (where you decide the number of points to apply in each of `A`, `B`, `C`, `D`, and `E`).  You will define these values in the code cell below.\n",
    "\n",
    "<center>\n",
    "<img src=\"https://storage.googleapis.com/kaggle-media/learn/images/FBoWr2f.png\" width=80%><br/>\n",
    "</center>\n",
    "    \n",
    "\n",
    "To check your answer, we use your values to create a heuristic function as follows:\n",
    "\n",
    "```python\n",
    "def get_heuristic_q1(grid, col, mark, config):\n",
    "    num_twos = count_windows(grid, 2, mark, config)\n",
    "    num_threes = count_windows(grid, 3, mark, config)\n",
    "    num_fours = count_windows(grid, 4, mark, config)\n",
    "    num_twos_opp = count_windows(grid, 2, mark%2+1, config)\n",
    "    num_threes_opp = count_windows(grid, 3, mark%2+1, config)\n",
    "    score = A*num_fours + B*num_threes + C*num_twos + D*num_twos_opp + E*num_threes_opp\n",
    "    return score\n",
    "```\n",
    "\n",
    "This heuristic is then used to create an agent, that competes against the agent from the tutorial in 50 different game rounds.  In order to be marked correct, \n",
    "- your agent must win at least half of the games, and\n",
    "- `C` and `D` must both be nonzero."
   ]
  },
  {
   "cell_type": "code",
   "execution_count": 2,
   "id": "8850ff3c",
   "metadata": {
    "execution": {
     "iopub.execute_input": "2024-09-11T15:45:12.185956Z",
     "iopub.status.busy": "2024-09-11T15:45:12.185316Z",
     "iopub.status.idle": "2024-09-11T15:45:25.680879Z",
     "shell.execute_reply": "2024-09-11T15:45:25.679793Z"
    },
    "papermill": {
     "duration": 13.503573,
     "end_time": "2024-09-11T15:45:25.683247",
     "exception": false,
     "start_time": "2024-09-11T15:45:12.179674",
     "status": "completed"
    },
    "tags": []
   },
   "outputs": [
    {
     "name": "stdout",
     "output_type": "stream",
     "text": [
      "Your Agent's Win Percentage (in 50 game rounds): 0.58\n",
      "Tutorial Agent's Win Percentage (in 50 game rounds): 0.42\n"
     ]
    },
    {
     "data": {
      "application/javascript": [
       "parent.postMessage({\"jupyterEvent\": \"custom.exercise_interaction\", \"data\": {\"outcomeType\": 1, \"valueTowardsCompletion\": 0.3333333333333333, \"interactionType\": 1, \"questionType\": 2, \"questionId\": \"1_BetterHeuristic\", \"learnToolsVersion\": \"0.3.4\", \"failureMessage\": \"\", \"exceptionClass\": \"\", \"trace\": \"\"}}, \"*\")"
      ],
      "text/plain": [
       "<IPython.core.display.Javascript object>"
      ]
     },
     "metadata": {},
     "output_type": "display_data"
    },
    {
     "data": {
      "text/markdown": [
       "<span style=\"color:#33cc33\">Correct</span>"
      ],
      "text/plain": [
       "Correct"
      ]
     },
     "metadata": {},
     "output_type": "display_data"
    }
   ],
   "source": [
    "# TODO: Assign your values here\n",
    "\n",
    "A = 1e100\n",
    "B = 1e75\n",
    "C = 1e50\n",
    "D = -1e50\n",
    "E = -1e75\n",
    "\n",
    "# Check your answer (this will take a few seconds to run!)\n",
    "q_1.check()"
   ]
  },
  {
   "cell_type": "code",
   "execution_count": 3,
   "id": "9c20b3ae",
   "metadata": {
    "execution": {
     "iopub.execute_input": "2024-09-11T15:45:25.694185Z",
     "iopub.status.busy": "2024-09-11T15:45:25.693797Z",
     "iopub.status.idle": "2024-09-11T15:45:25.698894Z",
     "shell.execute_reply": "2024-09-11T15:45:25.697549Z"
    },
    "papermill": {
     "duration": 0.013461,
     "end_time": "2024-09-11T15:45:25.701338",
     "exception": false,
     "start_time": "2024-09-11T15:45:25.687877",
     "status": "completed"
    },
    "tags": []
   },
   "outputs": [],
   "source": [
    "# Lines below will give you a hint or solution code\n",
    "#q_1.hint()\n",
    "#q_1.solution()"
   ]
  },
  {
   "cell_type": "markdown",
   "id": "abca3fff",
   "metadata": {
    "papermill": {
     "duration": 0.004907,
     "end_time": "2024-09-11T15:45:25.711357",
     "exception": false,
     "start_time": "2024-09-11T15:45:25.706450",
     "status": "completed"
    },
    "tags": []
   },
   "source": [
    "### 2) Does the agent win?\n",
    "\n",
    "Consider the game board below.  \n",
    "\n",
    "<center>\n",
    "<img src=\"https://storage.googleapis.com/kaggle-media/learn/images/AlnaQ3J.png\" width=30%><br/>\n",
    "</center>\n",
    "\n",
    "Say the agent uses red discs, and it's the agent's turn.  \n",
    "- If the agent uses the heuristic **_from the tutorial_**, does it win or lose the game?\n",
    "- If the agent uses the heuristic **_that you just implemented_**, does it win or lose the game?"
   ]
  },
  {
   "cell_type": "code",
   "execution_count": 4,
   "id": "ed0a23b3",
   "metadata": {
    "execution": {
     "iopub.execute_input": "2024-09-11T15:45:25.722595Z",
     "iopub.status.busy": "2024-09-11T15:45:25.721773Z",
     "iopub.status.idle": "2024-09-11T15:45:25.726612Z",
     "shell.execute_reply": "2024-09-11T15:45:25.725363Z"
    },
    "papermill": {
     "duration": 0.01297,
     "end_time": "2024-09-11T15:45:25.728937",
     "exception": false,
     "start_time": "2024-09-11T15:45:25.715967",
     "status": "completed"
    },
    "tags": []
   },
   "outputs": [],
   "source": [
    "#q_2.hint()"
   ]
  },
  {
   "cell_type": "code",
   "execution_count": 5,
   "id": "75aa7977",
   "metadata": {
    "execution": {
     "iopub.execute_input": "2024-09-11T15:45:25.739964Z",
     "iopub.status.busy": "2024-09-11T15:45:25.739558Z",
     "iopub.status.idle": "2024-09-11T15:45:25.749821Z",
     "shell.execute_reply": "2024-09-11T15:45:25.748542Z"
    },
    "papermill": {
     "duration": 0.018839,
     "end_time": "2024-09-11T15:45:25.752509",
     "exception": false,
     "start_time": "2024-09-11T15:45:25.733670",
     "status": "completed"
    },
    "tags": []
   },
   "outputs": [
    {
     "data": {
      "application/javascript": [
       "parent.postMessage({\"jupyterEvent\": \"custom.exercise_interaction\", \"data\": {\"interactionType\": 3, \"questionType\": 4, \"questionId\": \"2_BothLose\", \"learnToolsVersion\": \"0.3.4\", \"valueTowardsCompletion\": 0.0, \"failureMessage\": \"\", \"exceptionClass\": \"\", \"trace\": \"\", \"outcomeType\": 4}}, \"*\")"
      ],
      "text/plain": [
       "<IPython.core.display.Javascript object>"
      ]
     },
     "metadata": {},
     "output_type": "display_data"
    },
    {
     "data": {
      "text/markdown": [
       "<span style=\"color:#33cc99\">Solution:</span> The agent has two choices: it can play in either column 0 (the leftmost column), or column 6 (the rightmost column). If the agent plays in column 0, it definitely wins the game in its next move.  And, if it plays in column 6, it likely loses the game (since, if the opponent responds by playing in the same column, then the opponent wins the game). \n",
       "\n",
       "If the agent uses the heuristic **from the tutorial**, both columns are scored equally, and so the agent will select from them (uniformly) at random.  In this case, the agent has about a 50/50 chance of winning the game. \n",
       "\n",
       "As for the heuristic **that** **you just implemented**, this will depend on your implementation, so we'll provide an answer for the solution heuristic that we provided -- in this case, the agent most likely loses the game, since it will definitely select the final column. \n",
       "\n",
       "This is an interesting situation, because on average, we see that the agent with the new heuristic performs better than the agent from the tutorial (and yet, for this board, it's guaranteed to make the wrong decision)."
      ],
      "text/plain": [
       "Solution: The agent has two choices: it can play in either column 0 (the leftmost column), or column 6 (the rightmost column). If the agent plays in column 0, it definitely wins the game in its next move.  And, if it plays in column 6, it likely loses the game (since, if the opponent responds by playing in the same column, then the opponent wins the game). \n",
       "\n",
       "If the agent uses the heuristic **from the tutorial**, both columns are scored equally, and so the agent will select from them (uniformly) at random.  In this case, the agent has about a 50/50 chance of winning the game. \n",
       "\n",
       "As for the heuristic **that** **you just implemented**, this will depend on your implementation, so we'll provide an answer for the solution heuristic that we provided -- in this case, the agent most likely loses the game, since it will definitely select the final column. \n",
       "\n",
       "This is an interesting situation, because on average, we see that the agent with the new heuristic performs better than the agent from the tutorial (and yet, for this board, it's guaranteed to make the wrong decision)."
      ]
     },
     "metadata": {},
     "output_type": "display_data"
    }
   ],
   "source": [
    "# Check your answer (Run this code cell to receive credit!)\n",
    "'''The agent has two options eitheir place the coin in the first or the last column.\n",
    "   Old agent would have a 50/50 choice of placing the coin.\n",
    "   New agent know thats if it places coin in the last column then the player will win so it will place the coin in the first col.'''\n",
    "q_2.solution()"
   ]
  },
  {
   "cell_type": "markdown",
   "id": "3fa6b80a",
   "metadata": {
    "papermill": {
     "duration": 0.004509,
     "end_time": "2024-09-11T15:45:25.762072",
     "exception": false,
     "start_time": "2024-09-11T15:45:25.757563",
     "status": "completed"
    },
    "tags": []
   },
   "source": [
    "### 3) Submit to the competition\n",
    "\n",
    "Now, it's time to submit an agent to the competition!  Use the next code cell to define an agent.  (You can see an example of how to write a valid agent in **[this notebook](https://www.kaggle.com/alexisbcook/create-a-connectx-agent)**.)\n",
    "\n",
    "You're encouraged to use what you learned in the first question of this exercise to write an agent.  Use the code from the tutorial as a starting point. "
   ]
  },
  {
   "cell_type": "code",
   "execution_count": 6,
   "id": "7eb9df12",
   "metadata": {
    "execution": {
     "iopub.execute_input": "2024-09-11T15:45:25.773959Z",
     "iopub.status.busy": "2024-09-11T15:45:25.773549Z",
     "iopub.status.idle": "2024-09-11T15:45:25.791488Z",
     "shell.execute_reply": "2024-09-11T15:45:25.790341Z"
    },
    "papermill": {
     "duration": 0.027449,
     "end_time": "2024-09-11T15:45:25.794461",
     "exception": false,
     "start_time": "2024-09-11T15:45:25.767012",
     "status": "completed"
    },
    "tags": []
   },
   "outputs": [],
   "source": [
    "import random\n",
    "import numpy as np\n",
    "\n",
    "def my_agent(obs, config):\n",
    "    def score_move(grid, col, mark, config):\n",
    "        next_grid = drop_piece(grid, col, mark, config)\n",
    "        score = get_heuristic_q1(next_grid, col, mark, config)\n",
    "        return score\n",
    "    \n",
    "    def drop_piece(grid, col, mark, config):\n",
    "        next_grid = grid.copy()\n",
    "        for row in range(config.rows-1, -1, -1):\n",
    "            if next_grid[row][col] == 0:\n",
    "                break\n",
    "        next_grid[row][col] = mark\n",
    "        return next_grid\n",
    "    \n",
    "    def check_window(window, num_discs, piece, config):\n",
    "        return (window.count(piece) == num_discs and window.count(0) == config.inarow - num_discs)\n",
    "    \n",
    "    def count_windows(grid, num_discs, piece, config):\n",
    "        num_windows = 0\n",
    "        # horizontal\n",
    "        for row in range(config.rows):\n",
    "            for col in range(config.columns - (config.inarow - 1)):\n",
    "                window = list(grid[row, col:col + config.inarow])\n",
    "                if check_window(window, num_discs, piece, config):\n",
    "                    num_windows += 1\n",
    "        # vertical\n",
    "        for row in range(config.rows - (config.inarow - 1)):\n",
    "            for col in range(config.columns):\n",
    "                window = list(grid[row:row + config.inarow, col])\n",
    "                if check_window(window, num_discs, piece, config):\n",
    "                    num_windows += 1\n",
    "        # positive diagonal\n",
    "        for row in range(config.rows - (config.inarow - 1)):\n",
    "            for col in range(config.columns - (config.inarow - 1)):\n",
    "                window = [grid[row + i, col + i] for i in range(config.inarow)]\n",
    "                if check_window(window, num_discs, piece, config):\n",
    "                    num_windows += 1\n",
    "        # negative diagonal\n",
    "        for row in range(config.inarow - 1, config.rows):\n",
    "            for col in range(config.columns - (config.inarow - 1)):\n",
    "                window = [grid[row - i, col + i] for i in range(config.inarow)]\n",
    "                if check_window(window, num_discs, piece, config):\n",
    "                    num_windows += 1\n",
    "        return num_windows\n",
    "    \n",
    "    def get_heuristic_q1(grid, col, mark, config):\n",
    "        num_twos = count_windows(grid, 2, mark, config)\n",
    "        num_threes = count_windows(grid, 3, mark, config)\n",
    "        num_fours = count_windows(grid, 4, mark, config)\n",
    "        num_twos_opp = count_windows(grid, 2, mark % 2 + 1, config)\n",
    "        num_threes_opp = count_windows(grid, 3, mark % 2 + 1, config)\n",
    "        A = 1e100\n",
    "        B = 1e75\n",
    "        C = 1e50\n",
    "        D = -1e50\n",
    "        E = -1e75\n",
    "        score = A * num_fours + B * num_threes + C * num_twos + D * num_twos_opp + E * num_threes_opp\n",
    "        return score\n",
    "    \n",
    "    valid_moves = [c for c in range(config.columns) if obs.board[c] == 0]\n",
    "    # Convert the board to a 2D grid\n",
    "    grid = np.asarray(obs.board).reshape(config.rows, config.columns)\n",
    "    # Use the heuristic to assign a score to each possible board in the next turn\n",
    "    scores = dict(zip(valid_moves, [score_move(grid, col, obs.mark, config) for col in valid_moves]))\n",
    "    # Get a list of columns (moves) that maximize the heuristic\n",
    "    max_cols = [key for key in scores.keys() if scores[key] == max(scores.values())]\n",
    "    # Select at random from the maximizing columns\n",
    "    return random.choice(max_cols)\n"
   ]
  },
  {
   "cell_type": "code",
   "execution_count": 7,
   "id": "26628daf",
   "metadata": {
    "execution": {
     "iopub.execute_input": "2024-09-11T15:45:25.806175Z",
     "iopub.status.busy": "2024-09-11T15:45:25.805746Z",
     "iopub.status.idle": "2024-09-11T15:45:25.815321Z",
     "shell.execute_reply": "2024-09-11T15:45:25.814174Z"
    },
    "papermill": {
     "duration": 0.018408,
     "end_time": "2024-09-11T15:45:25.817918",
     "exception": false,
     "start_time": "2024-09-11T15:45:25.799510",
     "status": "completed"
    },
    "tags": []
   },
   "outputs": [
    {
     "data": {
      "application/javascript": [
       "parent.postMessage({\"jupyterEvent\": \"custom.exercise_interaction\", \"data\": {\"outcomeType\": 1, \"valueTowardsCompletion\": 0.3333333333333333, \"interactionType\": 1, \"questionType\": 2, \"questionId\": \"3_CreateAgentEx2\", \"learnToolsVersion\": \"0.3.4\", \"failureMessage\": \"\", \"exceptionClass\": \"\", \"trace\": \"\"}}, \"*\")"
      ],
      "text/plain": [
       "<IPython.core.display.Javascript object>"
      ]
     },
     "metadata": {},
     "output_type": "display_data"
    },
    {
     "data": {
      "text/markdown": [
       "<span style=\"color:#33cc33\">Thank you for creating an agent!</span>"
      ],
      "text/plain": [
       "Thank you for creating an agent!"
      ]
     },
     "metadata": {},
     "output_type": "display_data"
    }
   ],
   "source": [
    "# Run this code cell to get credit for creating an agent\n",
    "q_3.check()"
   ]
  },
  {
   "cell_type": "markdown",
   "id": "27b72766",
   "metadata": {
    "papermill": {
     "duration": 0.004974,
     "end_time": "2024-09-11T15:45:25.828168",
     "exception": false,
     "start_time": "2024-09-11T15:45:25.823194",
     "status": "completed"
    },
    "tags": []
   },
   "source": [
    "Run the next code cell to convert your agent to a submission file."
   ]
  },
  {
   "cell_type": "code",
   "execution_count": 8,
   "id": "86967469",
   "metadata": {
    "execution": {
     "iopub.execute_input": "2024-09-11T15:45:25.840497Z",
     "iopub.status.busy": "2024-09-11T15:45:25.840052Z",
     "iopub.status.idle": "2024-09-11T15:45:25.851681Z",
     "shell.execute_reply": "2024-09-11T15:45:25.850378Z"
    },
    "papermill": {
     "duration": 0.020518,
     "end_time": "2024-09-11T15:45:25.854083",
     "exception": false,
     "start_time": "2024-09-11T15:45:25.833565",
     "status": "completed"
    },
    "tags": []
   },
   "outputs": [
    {
     "name": "stdout",
     "output_type": "stream",
     "text": [
      "<function my_agent at 0x7c4c51f33640> written to submission.py\n"
     ]
    }
   ],
   "source": [
    "import inspect\n",
    "import os\n",
    "\n",
    "def write_agent_to_file(function, file):\n",
    "    with open(file, \"a\" if os.path.exists(file) else \"w\") as f:\n",
    "        f.write(inspect.getsource(function))\n",
    "        print(function, \"written to\", file)\n",
    "\n",
    "write_agent_to_file(my_agent, \"submission.py\")"
   ]
  },
  {
   "cell_type": "markdown",
   "id": "384423b4",
   "metadata": {
    "papermill": {
     "duration": 0.004819,
     "end_time": "2024-09-11T15:45:25.864217",
     "exception": false,
     "start_time": "2024-09-11T15:45:25.859398",
     "status": "completed"
    },
    "tags": []
   },
   "source": [
    "Then, follow these steps to submit your agent to the competition:\n",
    "1. Begin by clicking on the **Save Version** button in the top right corner of the window.  This will generate a pop-up window.  \n",
    "2. Ensure that the **Save and Run All** option is selected, and then click on the **Save** button.\n",
    "3. This generates a window in the bottom left corner of the notebook.  After it has finished running, click on the number to the right of the **Save Version** button.  This pulls up a list of versions on the right of the screen.  Click on the ellipsis **(...)** to the right of the most recent version, and select **Open in Viewer**.  This brings you into view mode of the same page. You will need to scroll down to get back to these instructions.\n",
    "4. Click on the **Data** tab near the top of the screen.  Then, click on the file you would like to submit, and click on the **Submit** button to submit your results to the leaderboard.\n",
    "\n",
    "You have now successfully submitted to the competition!\n",
    "\n",
    "If you want to keep working to improve your performance, select the **Edit** button in the top right of the screen. Then you can change your code and repeat the process. There's a lot of room to improve, and you will climb up the leaderboard as you work.\n",
    "\n",
    "\n",
    "Go to **\"My Submissions\"** to view your score and episodes being played.\n",
    "\n",
    "# Keep going\n",
    "\n",
    "Move on to **[develop a longer-term strategy](https://www.kaggle.com/alexisbcook/n-step-lookahead)** with the minimax algorithm."
   ]
  },
  {
   "cell_type": "markdown",
   "id": "bd8f25ed",
   "metadata": {
    "papermill": {
     "duration": 0.004925,
     "end_time": "2024-09-11T15:45:25.874314",
     "exception": false,
     "start_time": "2024-09-11T15:45:25.869389",
     "status": "completed"
    },
    "tags": []
   },
   "source": [
    "---\n",
    "\n",
    "\n",
    "\n",
    "\n",
    "*Have questions or comments? Visit the [course discussion forum](https://www.kaggle.com/learn/intro-to-game-ai-and-reinforcement-learning/discussion) to chat with other learners.*"
   ]
  }
 ],
 "metadata": {
  "kaggle": {
   "accelerator": "none",
   "dataSources": [
    {
     "databundleVersionId": 899221,
     "sourceId": 17592,
     "sourceType": "competition"
    }
   ],
   "isGpuEnabled": false,
   "isInternetEnabled": false,
   "language": "python",
   "sourceType": "notebook"
  },
  "kernelspec": {
   "display_name": "Python 3",
   "language": "python",
   "name": "python3"
  },
  "language_info": {
   "codemirror_mode": {
    "name": "ipython",
    "version": 3
   },
   "file_extension": ".py",
   "mimetype": "text/x-python",
   "name": "python",
   "nbconvert_exporter": "python",
   "pygments_lexer": "ipython3",
   "version": "3.10.14"
  },
  "papermill": {
   "default_parameters": {},
   "duration": 27.218859,
   "end_time": "2024-09-11T15:45:27.304922",
   "environment_variables": {},
   "exception": null,
   "input_path": "__notebook__.ipynb",
   "output_path": "__notebook__.ipynb",
   "parameters": {},
   "start_time": "2024-09-11T15:45:00.086063",
   "version": "2.6.0"
  }
 },
 "nbformat": 4,
 "nbformat_minor": 5
}
